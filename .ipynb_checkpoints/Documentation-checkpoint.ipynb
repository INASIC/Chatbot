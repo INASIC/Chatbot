{
 "cells": [
  {
   "cell_type": "markdown",
   "metadata": {},
   "source": [
    "# Chatbot Documentation\n",
    "\n",
    "This project was heavily inspired by the series of [YouTube videos](https://www.youtube.com/watch?v=dvOnYLDg8_Y&t=20s) by [sentdex](https://www.youtube.com/channel/UCfzlCWGWYyIQ0aLC5w48gBQ). In this notebook, I present comprehensive documentation of my experience with this series, which involved creating a chatbot with deep learning, Python and TensorFlow.\n",
    "\n",
    "## Contents\n",
    "\n",
    "1. Introduction & Collecting our Training Data\n",
    "2. Data structure\n",
    "3. Buffering dataset\n",
    "4. Determining insert\n",
    "5. Building database\n",
    "6. Database to training data\n",
    "7. Training a model\n",
    "8. NMT Concepts and Parameters\n",
    "9. Interacting with our Chatbot\n",
    "10. Further Work\n",
    "\n",
    "# Introduction & Collecting our Training Data\n",
    "\n",
    "The method used here in building this chatbot is designed to be generalizable for building chatbots that can be used for a diverse range of applications. A large differentiating factor between the different implementations of chatbots, will largely depend on the type of training data used to build the chatbot.  \n",
    "\n",
    "As with all machine learning applications, one of the biggest obstacles is to collect the relevant data, and manipulate it to be useful for a given task. One of the most common data sets that people tend to use for building (relatively weak) chatbots is the open-source [Cornell movie database](https://www.cs.cornell.edu/~cristian/Cornell_Movie-Dialogs_Corpus.html), which contains 220,000 conversational exchanges between 10,300 pairs of movie characters. In addition to it being open-source, it contains conversational data from different movies, different characters, and different genders, which allows for a dataset that is fairly balanced to train on. However, a major draw-back is that there is a fairly limited amount of conversational exchanges.\n",
    "\n",
    "In the era of deep learning, big data is really the fuel for our machine learning applications. As we are building a chatbot that utilizes deep learning, our model will necessarily be very data hungry. Therefore, the Cornell movie database discussed will be fairly limited in its size. In search of a larger corpus of conversational exchanges to train our chatbot, we thus turn to [Reddit](https://www.reddit.com/), a popular collection of online forums where people share news, stories, and other types of content, and users are encouraged to comment and discuss about everyones posts. The popularity of Reddit is immense. It was measured that almost 1.69 billion users had accessed the site in just the month of March 2018, alone ([source](https://www.statista.com/statistics/443332/reddit-monthly-visitors/)). \n",
    "\n",
    "To extract this conversational data from Reddit, we could have used the [Python Reddit API](https://praw.readthedocs.io/en/latest/), but it has some pretty strict limitations. This API unfortunately will not allow you to parse millions of rows without a longer period of time, or violating the Terms of Service. Instead we can use a Reddit post that provides a [data dump of 1.7 Billion Reddit Comments](https://www.reddit.com/r/datasets/comments/3bxlg7/i_have_every_publicly_available_reddit_comment/?st=j9udbxta&sh=69e4fee7). This datafile is about 250 GB of data, when compressed. \n",
    "\n",
    "I will compare the performance of the chatbot on different sizes, and receny of reddit comment data which will be as follows:\n",
    "1. A __small__ dataset of __1.4 GB__ collected from an __older__ time: __January 2012__\n",
    "2. A __medium__ sized dataset of __9.1 GB__ collected from a more __recent__ time, __June 2018__\n",
    "3. A __large__ dataset of ~ __250 GB__, from between __December 2005 to June 2018__\n",
    "\n",
    "This data was collected from this [website](http://files.pushshift.io/reddit/comments/), where the datafiles are available in compressed form - allowing for relatively fast download speeds.\n",
    "\n",
    "# Data Structure\n",
    "\n",
    "If you observe the following [sample Reddit post](https://www.reddit.com/r/datasets/comments/3bxlg7/i_have_every_publicly_available_reddit_comment/?sort=top) and scroll down to the comments, you can observe that the comments are arranged in a __tree-like structure__, where you have parent comments at the top, followed by child comments which are in response to the parent above it. What we will need to do is to pull these strings of comments apart, and then  pair them together in a parent-child (comment and reply) manner. This allows us to capture natural conversational exchanges between humans on the internet, which we can then provide as training data to our chatbot to mimic. \n",
    "\n",
    "In this section we begin by __building our database__ that will store our parent comments that are paired to their best child (reply) comments. The reason do this is because a lot of these files are way too big for us to read into RAM and create training files from. For now, to keep things relatively simple we will use __SQLite__ for our database. \n",
    "\n",
    "The datafiles we are using are stored in the __JSON__ format. Because of this, there is a lot of unnecessary data within each of the files. When building our database, we will extract the following data from our JSON files:\n",
    "* Comment score (karma)\n",
    "* The comment body itself\n",
    "* Subreddit\n",
    "* The parent_id\n",
    "* Time of creation (UTC)\n",
    "\n",
    "Let's begin building the database using Python and SQLite!"
   ]
  },
  {
   "cell_type": "code",
   "execution_count": null,
   "metadata": {},
   "outputs": [],
   "source": [
    "import sqlite3  # For building our database\n",
    "import json  # To parse our datafiles\n",
    "from datetime import datetime"
   ]
  },
  {
   "cell_type": "code",
   "execution_count": null,
   "metadata": {},
   "outputs": [],
   "source": [
    "timeframe = '2012-01'  # Begin with our small dataset\n",
    "sql_transaction = []  # Efficiently parse rows"
   ]
  },
  {
   "cell_type": "markdown",
   "metadata": {},
   "source": [
    "In SQL, you ideally want to have a __big SQL transaction__ when possible. This is because you don't want to (for example) handle millions of rows by inserting them one by one if you don't have to, because that can be incredibly really inefficient. Instead you want to build up a big transaction and then perform it all at once - as this will be much faster to execute.\n",
    "\n",
    "The code immediately below this writing will connect to, and create the database if it doesn't exist already."
   ]
  },
  {
   "cell_type": "code",
   "execution_count": null,
   "metadata": {},
   "outputs": [],
   "source": [
    "connection = sqlite3.connect('../data/{}.db'.format(timeframe))  # Connects to database\n",
    "c = connection.cursor()  # Define cursor"
   ]
  },
  {
   "cell_type": "markdown",
   "metadata": {},
   "source": [
    "Here, let's create a function that can help us store the parent_id, comment_id, the parent comment, the reply (comment), subreddit, the time, and then finally the score (votes) for the comments from the raw JSON files."
   ]
  },
  {
   "cell_type": "code",
   "execution_count": null,
   "metadata": {},
   "outputs": [],
   "source": [
    "# Query function to extract data from raw JSON files\n",
    "def create_table():\n",
    "    c.execute(\"\"\"CREATE TABLE IF NOT EXISTS parent_reply(parent_id TEXT \n",
    "    PRIMARY KEY, comment_id TEXT UNIQUE, parent TEXT, comment TEXT, subreddit\n",
    "    TEXT, unix INT, score INT)\"\"\")"
   ]
  },
  {
   "cell_type": "code",
   "execution_count": null,
   "metadata": {},
   "outputs": [],
   "source": [
    "# Creates the table, if it doesn't exist already:\n",
    "if __name__ == '__main__':\n",
    "    create_table()"
   ]
  },
  {
   "cell_type": "markdown",
   "metadata": {},
   "source": [
    "Having discussed the structure of our data, and having created our database to store that date - we will beging working through the data.\n",
    "\n",
    "# Buffering Data\n",
    "\n",
    "In this section we will begin iterating over our data files and store that information. \n",
    "\n",
    "Let us begin by first improving the above ```if``` statement to include some additional actions. We will record using ```row_counter``` how far we are in the file that we are iterating through. Additionally, we also record how many rows of our data are reply-comment pairs, which we will aim to use as our training data - using the ```paired_rows``` variable. Since the file is too large for us to deal with in memory, we will use the ```buffering``` parameter, so that we read the file in small chunks that we can easily work with, which is fine since all we care about is 1 row at a time.\n",
    "\n",
    "We will now read through this data row by row, which is of the JSON format."
   ]
  },
  {
   "cell_type": "code",
   "execution_count": null,
   "metadata": {},
   "outputs": [],
   "source": [
    "if __name__ == '__main__':\n",
    "    create_table()  # Creates the table, if it doesn't exist already\n",
    "    row_counter = 0  # Record how many rows we iterate through in our data\n",
    "    paired_rows = 0  # Record how many parent-child pairs we have found\n",
    "    \n",
    "    with open('../data/{}/RC_{}'.format(timeframe.split('-')[0], timeframe), \n",
    "              buffering=1000) as f:\n",
    "        for row in f:  # Extract relevant feature data from rows of json file \n",
    "            row_counter += 1\n",
    "            row = json.loads(row)\n",
    "            parent_id = row['parent_id']  \n",
    "            body = format_data(row['body'])\n",
    "            created_utc = row['created_utc']\n",
    "            score = row['score']\n",
    "            subreddit = row['subreddit']"
   ]
  },
  {
   "cell_type": "markdown",
   "metadata": {},
   "source": [
    "Note the ```format_data``` function call above. This is used to normalize the comments and to convert the newline character to a word. Let's create that:"
   ]
  },
  {
   "cell_type": "code",
   "execution_count": 7,
   "metadata": {},
   "outputs": [],
   "source": [
    "# Get rid of any new lines, and convert the newline character to a word\n",
    "def format_data(data):\n",
    "    data = data.replace('\\n', ' newlinechar ').replace('\\r', ' newlinechar ').replace('\"\"', \"'\")\n",
    "    return data"
   ]
  },
  {
   "cell_type": "markdown",
   "metadata": {},
   "source": [
    "We can read the data into a Python object using ```json.loads()```, which simply takes a string formatted like a json object. \n",
    "\n",
    "All comments will initially not have a parent. This could be because it is either a top level comment (and the parent is the Reddit post itself), or because the parent isn't in the document. However, as we go through the document we will indeed find comments that do have parents within our database. When this occurs, we want to instead add this comment to the existing parent to store the conversation. Once we've gone through the file(s), we'll take the database and output our comment-reply pairs as training data, train the model and then finally have our completed chatbot. \n",
    "\n",
    "Before we input our data to the database, we should see if we can find the parent first. We achieve this with the ```find_parent``` function:"
   ]
  },
  {
   "cell_type": "code",
   "execution_count": 8,
   "metadata": {},
   "outputs": [],
   "source": [
    "# Finds the parent comment by the parent id (pid)\n",
    "def find_parent(pid):\n",
    "    try:\n",
    "        sql = \"SELECT comment FROM parent_reply WHERE comment_id = '{}' LIMIT 1\".format(pid)\n",
    "        c.execute(sql)\n",
    "        result = c.fetchone()\n",
    "        if result != None:\n",
    "            return result[0]\n",
    "        else:\n",
    "            return False\n",
    "    except Exception as e:\n",
    "        #print('find_parent', e)\n",
    "        return False"
   ]
  },
  {
   "cell_type": "markdown",
   "metadata": {},
   "source": [
    "We can now improve our previous ```if``` statement by appending it with this newly created ```find_parent``` function:"
   ]
  },
  {
   "cell_type": "code",
   "execution_count": null,
   "metadata": {},
   "outputs": [],
   "source": [
    "if __name__ == '__main__':\n",
    "    create_table()  # Creates the table, if it doesn't exist already\n",
    "    row_counter = 0  # Record how many rows we iterate through in our data\n",
    "    paired_rows = 0  # Record how many parent-child pairs we have found\n",
    "    \n",
    "    with open('../data/{}/RC_{}'.format(timeframe.split('-')[0], timeframe), \n",
    "              buffering=1000) as f:\n",
    "        for row in f:  # Extract relevant feature data from rows of json file \n",
    "            row_counter += 1\n",
    "            row = json.loads(row)\n",
    "            parent_id = row['parent_id']  \n",
    "            body = format_data(row['body'])\n",
    "            created_utc = row['created_utc']\n",
    "            score = row['score']\n",
    "            subreddit = row['subreddit']\n",
    "            parent_data = find_parent(parent_id)"
   ]
  },
  {
   "cell_type": "markdown",
   "metadata": {},
   "source": [
    "# Determining Insert\n",
    "\n",
    "In this section we will begin building the logic required to determine whether or not to insert data, and how.\n",
    "\n",
    "To begin, we aim to impose a restriction on _all_ comments, regardless if there are any others. This is because we want to filter unhelpful comments, and instead focus our training data on the best, most upvoted comments (measured by their comment score: karma). For this reason, we will only consider comments with a comment score of 2 or higher. \n",
    "\n",
    "Here, we __require the comment score to be 2 or higher__, and also check if there's already an existing reply to the parent, and check its score. The significance of a comment score value of 2, is that it means that some other unique user saw this comment on Reddit and decided to upvote it - signalling it as a useful comment to others. However, the value 2 is somewhat arbitrary, and is a threshold parameter which can be changed for different applications. For example if we are dealing with a much larger dataset, with many more comments - then it may be helpful to set this threshold to be higher - for example ```score >= 15```. Regardless, for this application we will set it to 2 for now, and perhaps in future implementations, experiment between different threshold values and compare the chatbots performance. \n",
    "\n",
    "In addition, if there is an existing comment, and if our score is higher than the existing comment's score, we would like to replace it:"
   ]
  },
  {
   "cell_type": "code",
   "execution_count": null,
   "metadata": {},
   "outputs": [],
   "source": [
    "if __name__ == '__main__':\n",
    "    create_table()\n",
    "    row_counter = 0\n",
    "    paired_rows = 0\n",
    "\n",
    "    with open('../data/{}/RC_{}'.format(timeframe.split('-')[0],timeframe), buffering=1000) as f:\n",
    "        for row in f:\n",
    "            row_counter += 1\n",
    "            row = json.loads(row)\n",
    "            parent_id = row['parent_id']\n",
    "            body = format_data(row['body'])\n",
    "            created_utc = row['created_utc']\n",
    "            score = row['score']\n",
    "            comment_id = row['name']\n",
    "            subreddit = row['subreddit']\n",
    "            parent_data = find_parent(parent_id)\n",
    "\n",
    "            if score >= 2:  # Impose threshold comment score\n",
    "                existing_comment_score = find_existing_score(parent_id)\n",
    "                if existing_comment_score:  \n",
    "                    if score > existing_comment_score:"
   ]
  },
  {
   "cell_type": "markdown",
   "metadata": {},
   "source": [
    "Note this requires the ```find_existing_score``` function:"
   ]
  },
  {
   "cell_type": "code",
   "execution_count": 9,
   "metadata": {},
   "outputs": [],
   "source": [
    "def find_existing_score(pid):\n",
    "    try:\n",
    "        sql = \"SELECT score FROM parent_reply WHERE parent_id = '{}' LIMIT 1\".format(pid)\n",
    "        c.execute(sql)\n",
    "        result = c.fetchone()\n",
    "        if result != None:\n",
    "            return result[0]\n",
    "        else: return False\n",
    "    except Exception as e:\n",
    "        #print(str(e))\n",
    "        return False"
   ]
  },
  {
   "cell_type": "markdown",
   "metadata": {},
   "source": [
    "It should be noted that on Reddit, many comments are either deleted or removed, but also some comments can be very long / very short. For our application, we want to make sure comments are of an acceptable length for training, and that the comment wasn't removed or deleted. We achieve this using the following function:"
   ]
  },
  {
   "cell_type": "code",
   "execution_count": 10,
   "metadata": {},
   "outputs": [],
   "source": [
    "# Checks if the comments are acceptable for training, i.e. they are of \n",
    "# sufficient length, and that they exist\n",
    "def acceptable(data):\n",
    "    if len(data.split(' ')) > 50 or len(data) < 1:  # Ignore long/short comments\n",
    "        return False\n",
    "    elif len(data) > 1000:  # Ignore long comments\n",
    "        return False\n",
    "    elif data == '[deleted]':  # Ignore deleted comments\n",
    "        return False\n",
    "    elif data == '[removed]':  # Ignore removed comments\n",
    "        return False\n",
    "    else:\n",
    "        return True"
   ]
  },
  {
   "cell_type": "markdown",
   "metadata": {},
   "source": [
    "# Building Database\n",
    "\n",
    "Up to this point we have been working with our data and preparing the logic for how we want to insert it into a database. In this section, we will begin actually building the database.\n",
    "\n",
    "First, we will improve our previous ```if``` statement with our newly created ```acceptable``` function. In addition, we will add a code block that use SQL to insert and replace the comment to the database, if the score is above the threshold, the comment is acceptable, and if the score is above the parent comment's score. We achieve this with the ```sql_insert_replace``` function:"
   ]
  },
  {
   "cell_type": "code",
   "execution_count": null,
   "metadata": {},
   "outputs": [],
   "source": [
    "if __name__ == '__main__':\n",
    "    create_table()\n",
    "    row_counter = 0\n",
    "    paired_rows = 0\n",
    "\n",
    "    with open('../data/{}/RC_{}'.format(timeframe.split('-')[0],timeframe), buffering=1000) as f:\n",
    "        for row in f:\n",
    "            row_counter += 1\n",
    "            row = json.loads(row)\n",
    "            parent_id = row['parent_id']\n",
    "            body = format_data(row['body'])\n",
    "            created_utc = row['created_utc']\n",
    "            score = row['score']\n",
    "            comment_id = row['name']\n",
    "            subreddit = row['subreddit']\n",
    "            parent_data = find_parent(parent_id)\n",
    "\n",
    "            if score >= 2:  # Impose threshold comment score\n",
    "                if acceptable(body):  # Check if comment body is suitable \n",
    "                    existing_comment_score = find_existing_score(parent_id)\n",
    "                    if existing_comment_score:  \n",
    "                        if score > existing_comment_score:\n",
    "                            sql_insert_replace_comment(comment_id, parent_id, parent_data, body, subreddit, created_utc, score)\n",
    "                    else:  # If there is no existing comment score\n",
    "                        if parent_data:\n",
    "                            sql_insert_has_parent(comment_id, parent_id, parent_data, body, subreddit, created_utc, score)\n",
    "                        else:\n",
    "                            sql_insert_no_parent(comment_id, parent_id, body, subreddit, created_utc, score)"
   ]
  },
  {
   "cell_type": "markdown",
   "metadata": {},
   "source": [
    "Notice here we have 3 additional function calls that do not exist yet. Let's create them:"
   ]
  },
  {
   "cell_type": "code",
   "execution_count": 11,
   "metadata": {},
   "outputs": [],
   "source": [
    "# Overwrites the parent_id comment with the current comment, if it has a better score\n",
    "def sql_insert_replace_comment(comment_id, parent_id, parent, comment, subreddit, created_utc, score):\n",
    "    try:\n",
    "        sql = \"\"\"UPDATE parent_reply SET parent_id = ?, comment_id = ?, parent = ?, comment = ?, subreddit = ?, unix = ?, score = ? WHERE parent_id =?;\"\"\".format(parent_id, comment_id, parent, comment, subreddit, int(created_utc), score, parent_id)\n",
    "        transaction_bldr(sql)\n",
    "    except Exception as e:\n",
    "        print('s-UPDATE insertion',str(e))\n",
    "        \n",
    "        \n",
    "# Inserts commment at the parent_id, if we had a comment body for that parent  \n",
    "def sql_insert_has_parent(comment_id, parent_id, parent, comment, subreddit, created_utc, score):\n",
    "    try:\n",
    "        sql = \"\"\"INSERT INTO parent_reply (parent_id, comment_id, parent, comment, subreddit, unix, score) VALUES (\"{}\",\"{}\",\"{}\",\"{}\",\"{}\",{},{});\"\"\".format(parent_id, comment_id, parent, comment, subreddit, int(created_utc), score)\n",
    "        transaction_bldr(sql)\n",
    "    except Exception as e:\n",
    "        print('s-PARENT insertion',str(e))\n",
    "        \n",
    "        \n",
    "# Inserts comment if there was no parent, but we still want the parent_id \n",
    "def sql_insert_no_parent(comment_id, parent_id, comment, subreddit, time, score):\n",
    "    try:\n",
    "        sql = \"\"\"INSERT INTO parent_reply (parent_id, comment_id, comment, subreddit, unix, score) VALUES (\"{}\",\"{}\",\"{}\",\"{}\",{},{});\"\"\".format(parent_id, comment_id, comment, subreddit, int(created_utc), score)\n",
    "        transaction_bldr(sql)\n",
    "    except Exception as e:\n",
    "        print('s-NO_PARENT insertion',str(e))"
   ]
  },
  {
   "cell_type": "markdown",
   "metadata": {},
   "source": [
    "Finally, the last function we will need to define to create this database will be the ```transaction_bldr```. This will build up insertion statements and commit them in groups, rather than one-by-one. This will help make our code to be much more efficient:"
   ]
  },
  {
   "cell_type": "code",
   "execution_count": 12,
   "metadata": {},
   "outputs": [],
   "source": [
    "# Efficiently builds up inerstion statements, and commits them in groups\n",
    "def transaction_bldr(sql):\n",
    "    global sql_transaction\n",
    "    sql_transaction.append(sql)\n",
    "    if len(sql_transaction) > 1000:\n",
    "        c.execute('BEGIN TRANSACTION')\n",
    "        for s in sql_transaction: \n",
    "            try:\n",
    "                c.execute(s)\n",
    "            except:\n",
    "                pass\n",
    "        connection.commit()\n",
    "        sql_transaction = []"
   ]
  },
  {
   "cell_type": "markdown",
   "metadata": {},
   "source": [
    "Let us add some additional lines of code, that allow us to see where we are during our iteration - so we'll output every 100,000 rows of data some information. Having done this, let's finally run our big ```if``` statement, and build the database:"
   ]
  },
  {
   "cell_type": "code",
   "execution_count": 13,
   "metadata": {},
   "outputs": [
    {
     "name": "stdout",
     "output_type": "stream",
     "text": [
      "Total Rows Read: 100000, Paired Rows: 3519, Time: 2018-08-15 10:59:37.628454\n",
      "Total Rows Read: 200000, Paired Rows: 7443, Time: 2018-08-15 11:00:09.140823\n",
      "Total Rows Read: 300000, Paired Rows: 11787, Time: 2018-08-15 11:00:41.264924\n",
      "Total Rows Read: 400000, Paired Rows: 16450, Time: 2018-08-15 11:01:13.562870\n",
      "Total Rows Read: 500000, Paired Rows: 21370, Time: 2018-08-15 11:01:45.903856\n",
      "Total Rows Read: 600000, Paired Rows: 26192, Time: 2018-08-15 11:02:18.315299\n",
      "Total Rows Read: 700000, Paired Rows: 30424, Time: 2018-08-15 11:02:50.386421\n",
      "Total Rows Read: 800000, Paired Rows: 35223, Time: 2018-08-15 11:03:23.212769\n",
      "Total Rows Read: 900000, Paired Rows: 40172, Time: 2018-08-15 11:03:56.272547\n",
      "Total Rows Read: 1000000, Paired Rows: 45103, Time: 2018-08-15 11:04:29.753281\n",
      "Total Rows Read: 1100000, Paired Rows: 49687, Time: 2018-08-15 11:05:02.455594\n",
      "Total Rows Read: 1200000, Paired Rows: 54121, Time: 2018-08-15 11:05:34.924230\n",
      "Total Rows Read: 1300000, Paired Rows: 59017, Time: 2018-08-15 11:06:07.617473\n",
      "Total Rows Read: 1400000, Paired Rows: 64099, Time: 2018-08-15 11:06:40.343172\n",
      "Total Rows Read: 1500000, Paired Rows: 68814, Time: 2018-08-15 11:07:13.366350\n",
      "Total Rows Read: 1600000, Paired Rows: 73660, Time: 2018-08-15 11:07:45.943247\n",
      "Total Rows Read: 1700000, Paired Rows: 78099, Time: 2018-08-15 11:08:18.882357\n",
      "Total Rows Read: 1800000, Paired Rows: 83285, Time: 2018-08-15 11:08:51.987180\n",
      "Total Rows Read: 1900000, Paired Rows: 88457, Time: 2018-08-15 11:09:24.759226\n",
      "Total Rows Read: 2000000, Paired Rows: 93366, Time: 2018-08-15 11:09:58.408812\n",
      "Total Rows Read: 2100000, Paired Rows: 98518, Time: 2018-08-15 11:10:31.263479\n",
      "Total Rows Read: 2200000, Paired Rows: 102949, Time: 2018-08-15 11:11:03.605704\n",
      "Total Rows Read: 2300000, Paired Rows: 107795, Time: 2018-08-15 11:11:36.338240\n",
      "Total Rows Read: 2400000, Paired Rows: 112933, Time: 2018-08-15 11:12:09.686750\n",
      "Total Rows Read: 2500000, Paired Rows: 118195, Time: 2018-08-15 11:12:42.374937\n",
      "Total Rows Read: 2600000, Paired Rows: 123260, Time: 2018-08-15 11:13:15.005169\n",
      "Total Rows Read: 2700000, Paired Rows: 128178, Time: 2018-08-15 11:13:47.595750\n",
      "Total Rows Read: 2800000, Paired Rows: 132565, Time: 2018-08-15 11:14:20.271808\n",
      "Total Rows Read: 2900000, Paired Rows: 137547, Time: 2018-08-15 11:14:53.556580\n",
      "Total Rows Read: 3000000, Paired Rows: 142797, Time: 2018-08-15 11:15:26.791175\n",
      "Total Rows Read: 3100000, Paired Rows: 147709, Time: 2018-08-15 11:15:59.568620\n",
      "Total Rows Read: 3200000, Paired Rows: 152491, Time: 2018-08-15 11:16:31.949656\n",
      "Total Rows Read: 3300000, Paired Rows: 156638, Time: 2018-08-15 11:17:04.254406\n",
      "Total Rows Read: 3400000, Paired Rows: 161435, Time: 2018-08-15 11:17:36.996478\n",
      "Total Rows Read: 3500000, Paired Rows: 166480, Time: 2018-08-15 11:18:09.768472\n",
      "Total Rows Read: 3600000, Paired Rows: 171363, Time: 2018-08-15 11:18:42.429095\n",
      "Total Rows Read: 3700000, Paired Rows: 176029, Time: 2018-08-15 11:19:14.754426\n",
      "Total Rows Read: 3800000, Paired Rows: 180329, Time: 2018-08-15 11:19:47.014303\n",
      "Total Rows Read: 3900000, Paired Rows: 185323, Time: 2018-08-15 11:20:20.871845\n",
      "Total Rows Read: 4000000, Paired Rows: 190385, Time: 2018-08-15 11:20:53.712847\n",
      "Total Rows Read: 4100000, Paired Rows: 195387, Time: 2018-08-15 11:21:26.610889\n",
      "Total Rows Read: 4200000, Paired Rows: 200289, Time: 2018-08-15 11:21:59.898323\n",
      "Total Rows Read: 4300000, Paired Rows: 204623, Time: 2018-08-15 11:22:32.090784\n",
      "Total Rows Read: 4400000, Paired Rows: 209379, Time: 2018-08-15 11:23:04.650149\n",
      "Total Rows Read: 4500000, Paired Rows: 214446, Time: 2018-08-15 11:23:38.357854\n",
      "Total Rows Read: 4600000, Paired Rows: 219474, Time: 2018-08-15 11:24:14.356936\n",
      "Total Rows Read: 4700000, Paired Rows: 224443, Time: 2018-08-15 11:24:53.654334\n",
      "Total Rows Read: 4800000, Paired Rows: 229262, Time: 2018-08-15 11:25:28.114111\n",
      "Total Rows Read: 4900000, Paired Rows: 233829, Time: 2018-08-15 11:26:04.188605\n",
      "Total Rows Read: 5000000, Paired Rows: 238959, Time: 2018-08-15 11:26:37.678121\n",
      "Total Rows Read: 5100000, Paired Rows: 243978, Time: 2018-08-15 11:27:11.713797\n",
      "Total Rows Read: 5200000, Paired Rows: 248895, Time: 2018-08-15 11:27:44.563953\n",
      "Total Rows Read: 5300000, Paired Rows: 253981, Time: 2018-08-15 11:28:17.602342\n",
      "Total Rows Read: 5400000, Paired Rows: 258581, Time: 2018-08-15 11:28:50.764541\n",
      "Total Rows Read: 5500000, Paired Rows: 263193, Time: 2018-08-15 11:29:23.616083\n",
      "Total Rows Read: 5600000, Paired Rows: 268165, Time: 2018-08-15 11:29:57.987786\n",
      "Total Rows Read: 5700000, Paired Rows: 273317, Time: 2018-08-15 11:30:31.404285\n",
      "Total Rows Read: 5800000, Paired Rows: 278381, Time: 2018-08-15 11:31:10.358682\n",
      "Total Rows Read: 5900000, Paired Rows: 283435, Time: 2018-08-15 11:31:44.205511\n",
      "Total Rows Read: 6000000, Paired Rows: 288058, Time: 2018-08-15 11:32:18.555236\n",
      "Total Rows Read: 6100000, Paired Rows: 292660, Time: 2018-08-15 11:32:52.407998\n",
      "Total Rows Read: 6200000, Paired Rows: 297789, Time: 2018-08-15 11:33:26.809624\n",
      "Total Rows Read: 6300000, Paired Rows: 302988, Time: 2018-08-15 11:34:01.245024\n",
      "Total Rows Read: 6400000, Paired Rows: 307748, Time: 2018-08-15 11:34:34.493391\n",
      "Total Rows Read: 6500000, Paired Rows: 312768, Time: 2018-08-15 11:35:14.065345\n",
      "Total Rows Read: 6600000, Paired Rows: 317152, Time: 2018-08-15 11:35:59.947765\n",
      "Total Rows Read: 6700000, Paired Rows: 322093, Time: 2018-08-15 11:36:39.323013\n",
      "Total Rows Read: 6800000, Paired Rows: 326912, Time: 2018-08-15 11:37:17.636643\n",
      "Total Rows Read: 6900000, Paired Rows: 332104, Time: 2018-08-15 11:37:54.934140\n",
      "Total Rows Read: 7000000, Paired Rows: 337101, Time: 2018-08-15 11:38:33.448523\n",
      "Total Rows Read: 7100000, Paired Rows: 341615, Time: 2018-08-15 11:39:11.908625\n",
      "Total Rows Read: 7200000, Paired Rows: 346114, Time: 2018-08-15 11:39:49.807841\n",
      "Total Rows Read: 7300000, Paired Rows: 350985, Time: 2018-08-15 11:40:31.162969\n",
      "Total Rows Read: 7400000, Paired Rows: 355633, Time: 2018-08-15 11:41:09.205317\n",
      "Total Rows Read: 7500000, Paired Rows: 360312, Time: 2018-08-15 11:41:48.713644\n",
      "Total Rows Read: 7600000, Paired Rows: 364833, Time: 2018-08-15 11:42:27.321310\n",
      "Total Rows Read: 7700000, Paired Rows: 369547, Time: 2018-08-15 11:43:05.657973\n",
      "Total Rows Read: 7800000, Paired Rows: 374528, Time: 2018-08-15 11:43:44.209025\n",
      "Total Rows Read: 7900000, Paired Rows: 379559, Time: 2018-08-15 11:44:22.973226\n",
      "Total Rows Read: 8000000, Paired Rows: 384662, Time: 2018-08-15 11:45:00.473480\n",
      "Total Rows Read: 8100000, Paired Rows: 389303, Time: 2018-08-15 11:45:39.571164\n",
      "Total Rows Read: 8200000, Paired Rows: 393934, Time: 2018-08-15 11:46:17.519226\n",
      "Total Rows Read: 8300000, Paired Rows: 399252, Time: 2018-08-15 11:46:56.499715\n",
      "Total Rows Read: 8400000, Paired Rows: 404556, Time: 2018-08-15 11:47:30.400055\n",
      "Total Rows Read: 8500000, Paired Rows: 409594, Time: 2018-08-15 11:48:06.175505\n",
      "Total Rows Read: 8600000, Paired Rows: 414401, Time: 2018-08-15 11:48:43.185515\n",
      "Total Rows Read: 8700000, Paired Rows: 418840, Time: 2018-08-15 11:49:22.751072\n",
      "Total Rows Read: 8800000, Paired Rows: 423727, Time: 2018-08-15 11:49:57.023676\n",
      "Total Rows Read: 8900000, Paired Rows: 428867, Time: 2018-08-15 11:50:31.640307\n",
      "Total Rows Read: 9000000, Paired Rows: 433947, Time: 2018-08-15 11:51:05.980360\n",
      "Total Rows Read: 9100000, Paired Rows: 438647, Time: 2018-08-15 11:51:39.802905\n",
      "Total Rows Read: 9200000, Paired Rows: 443225, Time: 2018-08-15 11:52:15.252508\n",
      "Total Rows Read: 9300000, Paired Rows: 447405, Time: 2018-08-15 11:52:48.972788\n",
      "Total Rows Read: 9400000, Paired Rows: 453137, Time: 2018-08-15 11:53:24.500108\n",
      "Total Rows Read: 9500000, Paired Rows: 457706, Time: 2018-08-15 11:53:59.764112\n",
      "Total Rows Read: 9600000, Paired Rows: 462644, Time: 2018-08-15 11:54:37.513421\n",
      "Total Rows Read: 9700000, Paired Rows: 467652, Time: 2018-08-15 11:55:20.473433\n",
      "Total Rows Read: 9800000, Paired Rows: 472857, Time: 2018-08-15 11:55:54.029301\n",
      "Total Rows Read: 9900000, Paired Rows: 477927, Time: 2018-08-15 11:56:29.697424\n",
      "Total Rows Read: 10000000, Paired Rows: 482678, Time: 2018-08-15 11:57:06.073477\n",
      "Total Rows Read: 10100000, Paired Rows: 487473, Time: 2018-08-15 11:57:45.401916\n",
      "Total Rows Read: 10200000, Paired Rows: 492590, Time: 2018-08-15 11:58:24.231667\n",
      "Total Rows Read: 10300000, Paired Rows: 497695, Time: 2018-08-15 11:59:03.338711\n"
     ]
    },
    {
     "name": "stdout",
     "output_type": "stream",
     "text": [
      "Total Rows Read: 10400000, Paired Rows: 502740, Time: 2018-08-15 11:59:41.249070\n",
      "Total Rows Read: 10500000, Paired Rows: 507362, Time: 2018-08-15 12:00:21.400229\n",
      "Total Rows Read: 10600000, Paired Rows: 511670, Time: 2018-08-15 12:01:00.884300\n",
      "Total Rows Read: 10700000, Paired Rows: 516682, Time: 2018-08-15 12:01:41.390390\n",
      "Total Rows Read: 10800000, Paired Rows: 521846, Time: 2018-08-15 12:02:22.612369\n",
      "Total Rows Read: 10900000, Paired Rows: 526853, Time: 2018-08-15 12:03:02.977443\n",
      "Total Rows Read: 11000000, Paired Rows: 531643, Time: 2018-08-15 12:03:42.799007\n",
      "Total Rows Read: 11100000, Paired Rows: 536359, Time: 2018-08-15 12:04:23.187105\n",
      "Total Rows Read: 11200000, Paired Rows: 541268, Time: 2018-08-15 12:05:02.079386\n",
      "Total Rows Read: 11300000, Paired Rows: 546381, Time: 2018-08-15 12:05:41.441380\n",
      "Total Rows Read: 11400000, Paired Rows: 551314, Time: 2018-08-15 12:06:21.201013\n",
      "Total Rows Read: 11500000, Paired Rows: 556243, Time: 2018-08-15 12:07:01.989718\n",
      "Total Rows Read: 11600000, Paired Rows: 560656, Time: 2018-08-15 12:07:41.277609\n",
      "Total Rows Read: 11700000, Paired Rows: 565663, Time: 2018-08-15 12:08:23.011706\n",
      "Total Rows Read: 11800000, Paired Rows: 570938, Time: 2018-08-15 12:09:03.756038\n",
      "Total Rows Read: 11900000, Paired Rows: 576202, Time: 2018-08-15 12:09:43.708354\n",
      "Total Rows Read: 12000000, Paired Rows: 581403, Time: 2018-08-15 12:10:22.839400\n",
      "Total Rows Read: 12100000, Paired Rows: 586101, Time: 2018-08-15 12:11:02.292621\n",
      "Total Rows Read: 12200000, Paired Rows: 590674, Time: 2018-08-15 12:11:42.663826\n",
      "Total Rows Read: 12300000, Paired Rows: 595817, Time: 2018-08-15 12:12:24.203411\n",
      "Total Rows Read: 12400000, Paired Rows: 601264, Time: 2018-08-15 12:13:06.153970\n",
      "Total Rows Read: 12500000, Paired Rows: 606535, Time: 2018-08-15 12:13:47.664626\n",
      "Total Rows Read: 12600000, Paired Rows: 611635, Time: 2018-08-15 12:14:28.635061\n",
      "Total Rows Read: 12700000, Paired Rows: 616364, Time: 2018-08-15 12:15:09.437091\n",
      "Total Rows Read: 12800000, Paired Rows: 620907, Time: 2018-08-15 12:15:52.726223\n",
      "Total Rows Read: 12900000, Paired Rows: 626267, Time: 2018-08-15 12:16:35.615630\n",
      "Total Rows Read: 13000000, Paired Rows: 631636, Time: 2018-08-15 12:17:18.843690\n",
      "Total Rows Read: 13100000, Paired Rows: 636936, Time: 2018-08-15 12:18:01.889165\n",
      "Total Rows Read: 13200000, Paired Rows: 642116, Time: 2018-08-15 12:18:45.729303\n",
      "Total Rows Read: 13300000, Paired Rows: 646845, Time: 2018-08-15 12:19:28.639845\n",
      "Total Rows Read: 13400000, Paired Rows: 651440, Time: 2018-08-15 12:20:11.407298\n",
      "Total Rows Read: 13500000, Paired Rows: 656483, Time: 2018-08-15 12:20:55.007165\n",
      "Total Rows Read: 13600000, Paired Rows: 661957, Time: 2018-08-15 12:21:39.918901\n",
      "Total Rows Read: 13700000, Paired Rows: 667073, Time: 2018-08-15 12:22:25.115127\n",
      "Total Rows Read: 13800000, Paired Rows: 672021, Time: 2018-08-15 12:23:08.951682\n",
      "Total Rows Read: 13900000, Paired Rows: 676711, Time: 2018-08-15 12:23:54.960960\n",
      "Total Rows Read: 14000000, Paired Rows: 681321, Time: 2018-08-15 12:24:40.760353\n",
      "Total Rows Read: 14100000, Paired Rows: 686459, Time: 2018-08-15 12:25:24.932527\n",
      "Total Rows Read: 14200000, Paired Rows: 691901, Time: 2018-08-15 12:26:10.854536\n",
      "Total Rows Read: 14300000, Paired Rows: 696863, Time: 2018-08-15 12:26:57.372111\n",
      "Total Rows Read: 14400000, Paired Rows: 701751, Time: 2018-08-15 12:27:43.094581\n",
      "Total Rows Read: 14500000, Paired Rows: 706282, Time: 2018-08-15 12:28:31.010779\n",
      "Total Rows Read: 14600000, Paired Rows: 711610, Time: 2018-08-15 12:29:20.143399\n",
      "Total Rows Read: 14700000, Paired Rows: 716987, Time: 2018-08-15 12:30:08.348276\n",
      "Total Rows Read: 14800000, Paired Rows: 721978, Time: 2018-08-15 12:30:53.942349\n",
      "Total Rows Read: 14900000, Paired Rows: 726901, Time: 2018-08-15 12:31:39.210522\n",
      "Total Rows Read: 15000000, Paired Rows: 731600, Time: 2018-08-15 12:32:19.162227\n",
      "Total Rows Read: 15100000, Paired Rows: 736528, Time: 2018-08-15 12:32:56.616012\n",
      "Total Rows Read: 15200000, Paired Rows: 741596, Time: 2018-08-15 12:33:33.676929\n",
      "Total Rows Read: 15300000, Paired Rows: 746602, Time: 2018-08-15 12:34:10.505577\n",
      "Total Rows Read: 15400000, Paired Rows: 751105, Time: 2018-08-15 12:34:46.253345\n",
      "Total Rows Read: 15500000, Paired Rows: 755875, Time: 2018-08-15 12:35:27.107141\n",
      "Total Rows Read: 15600000, Paired Rows: 761024, Time: 2018-08-15 12:36:01.811611\n",
      "Total Rows Read: 15700000, Paired Rows: 766197, Time: 2018-08-15 12:36:36.271209\n",
      "Total Rows Read: 15800000, Paired Rows: 771104, Time: 2018-08-15 12:37:12.952417\n",
      "Total Rows Read: 15900000, Paired Rows: 775681, Time: 2018-08-15 12:37:46.867670\n",
      "Total Rows Read: 16000000, Paired Rows: 780224, Time: 2018-08-15 12:38:19.899344\n",
      "Total Rows Read: 16100000, Paired Rows: 785067, Time: 2018-08-15 12:38:53.312788\n",
      "Total Rows Read: 16200000, Paired Rows: 790385, Time: 2018-08-15 12:39:28.558060\n",
      "Total Rows Read: 16300000, Paired Rows: 795597, Time: 2018-08-15 12:40:02.176128\n"
     ]
    }
   ],
   "source": [
    "# Create the database using SQLite\n",
    "if __name__ == '__main__':\n",
    "    create_table()\n",
    "    row_counter = 0\n",
    "    paired_rows = 0\n",
    "\n",
    "    with open('../data/{}/RC_{}'.format(timeframe.split('-')[0],timeframe), buffering=1000) as f:\n",
    "        for row in f:\n",
    "            row_counter += 1\n",
    "            row = json.loads(row)\n",
    "            parent_id = row['parent_id']\n",
    "            body = format_data(row['body'])\n",
    "            created_utc = row['created_utc']\n",
    "            score = row['score']\n",
    "            comment_id = row['name']\n",
    "            subreddit = row['subreddit']\n",
    "            parent_data = find_parent(parent_id)\n",
    "            if score >= 2:\n",
    "                existing_comment_score = find_existing_score(parent_id)\n",
    "                if existing_comment_score:\n",
    "                    if score > existing_comment_score:\n",
    "                        if acceptable(body):\n",
    "                            sql_insert_replace_comment(comment_id,parent_id,parent_data,body,subreddit,created_utc,score)\n",
    "                else:\n",
    "                    if acceptable(body):\n",
    "                        if parent_data:\n",
    "                            sql_insert_has_parent(comment_id,parent_id,parent_data,body,subreddit,created_utc,score)\n",
    "                            paired_rows += 1\n",
    "                        else:\n",
    "                            sql_insert_no_parent(comment_id,parent_id,body,subreddit,created_utc,score)\n",
    "                            \n",
    "            if row_counter % 100000 == 0:  # Inform us our progress\n",
    "                print('Total Rows Read: {}, Paired Rows: {}, Time: {}'.format(row_counter, paired_rows, str(datetime.now())))"
   ]
  },
  {
   "cell_type": "markdown",
   "metadata": {},
   "source": [
    "Having completed constructing the database using SQLite, we can then view the created database within the same directory of this documentation, which wil have the file extension ```.db```. For those that are curious, we can open and view this created database using the open-source tool [Database Browser for SQLite](https://sqlitebrowser.org/).\n",
    "\n",
    "# Database to Training Data\n",
    "\n"
   ]
  },
  {
   "cell_type": "code",
   "execution_count": null,
   "metadata": {},
   "outputs": [],
   "source": []
  }
 ],
 "metadata": {
  "kernelspec": {
   "display_name": "Python 3",
   "language": "python",
   "name": "python3"
  },
  "language_info": {
   "codemirror_mode": {
    "name": "ipython",
    "version": 3
   },
   "file_extension": ".py",
   "mimetype": "text/x-python",
   "name": "python",
   "nbconvert_exporter": "python",
   "pygments_lexer": "ipython3",
   "version": "3.5.2"
  }
 },
 "nbformat": 4,
 "nbformat_minor": 2
}
